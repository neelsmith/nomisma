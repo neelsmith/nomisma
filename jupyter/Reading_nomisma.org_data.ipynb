{
 "cells": [
  {
   "cell_type": "markdown",
   "metadata": {},
   "source": [
    "# Reading `nomisma.org` data\n",
    "\n",
    "First we configure our notebook to find the `nomisma` library.  (You could do the same thing in other environments with `sbt` or `maven`.)"
   ]
  },
  {
   "cell_type": "code",
   "execution_count": null,
   "metadata": {},
   "outputs": [],
   "source": [
    "// 1. Add maven repository where we https://hub.gke.mybinder.org/user/neelsmith-nomisma-pwjvmfpa/notebooks/Untitled.ipynb?kernel_name=scala212#can find our libraries\n",
    "val myBT = coursierapi.MavenRepository.of(\"https://dl.bintray.com/neelsmith/maven\")\n",
    "interp.repositories() ++= Seq(myBT)"
   ]
  },
  {
   "cell_type": "code",
   "execution_count": null,
   "metadata": {},
   "outputs": [],
   "source": [
    "// 2. Make libraries available with `$ivy` imports:\n",
    "import $ivy.`edu.holycross.shot::nomisma:1.4.0`"
   ]
  },
  {
   "cell_type": "markdown",
   "metadata": {},
   "source": [
    "## Load and parse RDF data\n",
    "\n",
    "Load and parse a test file with data for four issues:"
   ]
  },
  {
   "cell_type": "code",
   "execution_count": null,
   "metadata": {},
   "outputs": [],
   "source": [
    "import edu.holycross.shot.nomisma._\n",
    "val sampleRdf = \"https://raw.githubusercontent.com/neelsmith/nomisma/master/jvm/src/test/resources/ocre_sample.rdf\"\n",
    "val sampleOcre = OcreSource.fromRdfUrl(sampleRdf)\n",
    "\n",
    "// Check results:\n",
    "val expectedSize = 4\n",
    "require(sampleOcre.size == expectedSize)"
   ]
  },
  {
   "cell_type": "markdown",
   "metadata": {},
   "source": [
    "# Load and parse delimited-text data\n",
    "\n",
    "Load full OCRE data set from `.cex` file in github repository:"
   ]
  },
  {
   "cell_type": "code",
   "execution_count": null,
   "metadata": {},
   "outputs": [],
   "source": [
    "val ocreCex = \"https://raw.githubusercontent.com/neelsmith/nomisma/master/cex/ocre-valid.cex\"\n",
    "val ocre = OcreSource.fromUrl(ocreCex)\n",
    "\n",
    "// Check results:\n",
    "require(ocre.size > 50000)   "
   ]
  }
 ],
 "metadata": {
  "kernelspec": {
   "display_name": "Scala 2.12",
   "language": "scala",
   "name": "scala212"
  },
  "language_info": {
   "codemirror_mode": "text/x-scala",
   "file_extension": ".scala",
   "mimetype": "text/x-scala",
   "name": "scala",
   "nbconvert_exporter": "script",
   "version": "2.12.10"
  }
 },
 "nbformat": 4,
 "nbformat_minor": 2
}
