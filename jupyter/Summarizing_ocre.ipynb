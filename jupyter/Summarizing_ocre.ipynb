{
 "cells": [
  {
   "cell_type": "markdown",
   "metadata": {},
   "source": [
    "# Summarizing data in OCRE\n",
    "\n",
    "This notebook shows you how to load OCRE data from a CEX file over the internet, and summarize its contents.\n"
   ]
  },
  {
   "cell_type": "markdown",
   "metadata": {},
   "source": [
    "\n",
    "### Configure Jupyter notebook\n",
    "\n",
    "First configure the Jupyter notebook to find the `nomisma` library.  (You could do the same thing in other environments with `sbt` or `maven`.)"
   ]
  },
  {
   "cell_type": "code",
   "execution_count": 10,
   "metadata": {},
   "outputs": [
    {
     "data": {
      "text/plain": [
       "\u001b[36mmyBT\u001b[39m: \u001b[32mcoursierapi\u001b[39m.\u001b[32mMavenRepository\u001b[39m = MavenRepository(https://dl.bintray.com/neelsmith/maven)"
      ]
     },
     "execution_count": 10,
     "metadata": {},
     "output_type": "execute_result"
    }
   ],
   "source": [
    "// 1. Add maven repository where we can find our libraries\n",
    "val myBT = coursierapi.MavenRepository.of(\"https://dl.bintray.com/neelsmith/maven\")\n",
    "interp.repositories() ++= Seq(myBT)"
   ]
  },
  {
   "cell_type": "code",
   "execution_count": 11,
   "metadata": {},
   "outputs": [
    {
     "data": {
      "text/plain": [
       "\u001b[32mimport \u001b[39m\u001b[36m$ivy.$                                  \n",
       "\u001b[39m\n",
       "\u001b[32mimport \u001b[39m\u001b[36m$ivy.$                                     \n",
       "\u001b[39m\n",
       "\u001b[32mimport \u001b[39m\u001b[36m$ivy.$                                      \u001b[39m"
      ]
     },
     "execution_count": 11,
     "metadata": {},
     "output_type": "execute_result"
    }
   ],
   "source": [
    "// 2. Make libraries available with `$ivy` imports:\n",
    "import $ivy.`edu.holycross.shot::nomisma:1.4.0`\n",
    "import $ivy.`edu.holycross.shot::histoutils:2.2.0`\n",
    "import $ivy.`org.plotly-scala::plotly-almond:0.7.1`"
   ]
  },
  {
   "cell_type": "markdown",
   "metadata": {},
   "source": [
    "## Load the full OCRE data set"
   ]
  },
  {
   "cell_type": "code",
   "execution_count": 12,
   "metadata": {},
   "outputs": [
    {
     "name": "stderr",
     "output_type": "stream",
     "text": [
      "Nov 30, 2019 1:39:17 PM wvlet.log.Logger log\n",
      "INFO: Reading 50023 lines of CEX data.\n",
      "Nov 30, 2019 1:39:18 PM wvlet.log.Logger log\n",
      "INFO: Created Ocre with 50023 issues.\n"
     ]
    },
    {
     "data": {
      "text/plain": [
       "\u001b[32mimport \u001b[39m\u001b[36medu.holycross.shot.nomisma._\n",
       "\u001b[39m\n",
       "\u001b[36mocreCex\u001b[39m: \u001b[32mString\u001b[39m = \u001b[32m\"https://raw.githubusercontent.com/neelsmith/nomisma/master/cex/ocre-valid.cex\"\u001b[39m\n",
       "\u001b[36mocre\u001b[39m: \u001b[32mOcre\u001b[39m = \u001b[33mOcre\u001b[39m(\n",
       "  \u001b[33mVector\u001b[39m(\n",
       "    \u001b[33mOcreIssue\u001b[39m(\n",
       "      \u001b[32m\"3.com.43\"\u001b[39m,\n",
       "      \u001b[32m\"RIC III Commodus 43\"\u001b[39m,\n",
       "      \u001b[32m\"denarius\"\u001b[39m,\n",
       "      \u001b[32m\"ar\"\u001b[39m,\n",
       "      \u001b[32m\"commodus\"\u001b[39m,\n",
       "      \u001b[32m\"rome\"\u001b[39m,\n",
       "      \u001b[32m\"italy\"\u001b[39m,\n",
       "      \u001b[32m\"Head of Commodus, laureate, right\"\u001b[39m,\n",
       "      \u001b[32m\"M COMMODVS ANTONINVS AVG\"\u001b[39m,\n",
       "      \u001b[32m\"rdf:resource=\\\"http://nomisma.org/id/commodus\\\"\"\u001b[39m,\n",
       "      \u001b[32m\"Roma, helmeted, draped, standing left, holding Victory in extended right hand and vertical spear in left hand\"\u001b[39m,\n",
       "      \u001b[32m\"TR P VII IMP V COS III P P\"\u001b[39m,\n",
       "      \u001b[32m\"rdf:resource=\\\"http://collection.britishmuseum.org/id/person-institution/60208\\\"\"\u001b[39m,\n",
       "      \u001b[33mSome\u001b[39m(\u001b[33mYearRange\u001b[39m(\u001b[32m182\u001b[39m, \u001b[33mSome\u001b[39m(\u001b[32m182\u001b[39m)))\n",
       "    ),\n",
       "    \u001b[33mOcreIssue\u001b[39m(\n",
       "      \u001b[32m\"9.thes.27B.iii\"\u001b[39m,\n",
       "      \u001b[32m\"RIC IX Thessalonica 27B: Subtype iii\"\u001b[39m,\n",
       "      \u001b[32m\"ae3\"\u001b[39m,\n",
       "      \u001b[32m\"ae\"\u001b[39m,\n",
       "      \u001b[32m\"valentinian_i\"\u001b[39m,\n",
       "      \u001b[32m\"thessalonica\"\u001b[39m,\n",
       "      \u001b[32m\"macedonia\"\u001b[39m,\n",
       "      \u001b[32m\"Bust of Valens, pearl-diademed, draped and cuirassed, right\"\u001b[39m,\n",
       "      \u001b[32m\"D N VALEN-S P F AVG\"\u001b[39m,\n",
       "      \u001b[32m\"rdf:resource=\\\"http://nomisma.org/id/valens\\\"\"\u001b[39m,\n",
       "      \u001b[32m\"Victory advancing left, holding wreath and palm\"\u001b[39m,\n",
       "      \u001b[32m\"SECVRITAS-REIPVBLICAE\"\u001b[39m,\n",
       "      \u001b[32m\"rdf:resource=\\\"http://collection.britishmuseum.org/id/person-institution/60915\\\"\"\u001b[39m,\n",
       "      \u001b[33mSome\u001b[39m(\u001b[33mYearRange\u001b[39m(\u001b[32m367\u001b[39m, \u001b[33mSome\u001b[39m(\u001b[32m375\u001b[39m)))\n",
       "    ),\n",
       "    \u001b[33mOcreIssue\u001b[39m(\n",
       "      \u001b[32m\"9.thes.27B.ii\"\u001b[39m,\n",
       "..."
      ]
     },
     "execution_count": 12,
     "metadata": {},
     "output_type": "execute_result"
    }
   ],
   "source": [
    "import edu.holycross.shot.nomisma._\n",
    "val ocreCex = \"https://raw.githubusercontent.com/neelsmith/nomisma/master/cex/ocre-valid.cex\"\n",
    "val ocre = OcreSource.fromUrl(ocreCex)\n",
    "\n",
    "// Check results:\n",
    "require(ocre.size > 50000) "
   ]
  },
  {
   "cell_type": "markdown",
   "metadata": {},
   "source": [
    "## What's in it? Core information for every issue\n",
    "\n",
    "We'll verify that every issue has information about the issuing authority, the material, and the denomination.  "
   ]
  },
  {
   "cell_type": "code",
   "execution_count": 13,
   "metadata": {},
   "outputs": [
    {
     "data": {
      "text/plain": [
       "\u001b[36mauthorities\u001b[39m: \u001b[32mVector\u001b[39m[\u001b[32mOcreIssue\u001b[39m] = \u001b[33mVector\u001b[39m(\n",
       "  \u001b[33mOcreIssue\u001b[39m(\n",
       "    \u001b[32m\"3.com.43\"\u001b[39m,\n",
       "    \u001b[32m\"RIC III Commodus 43\"\u001b[39m,\n",
       "    \u001b[32m\"denarius\"\u001b[39m,\n",
       "    \u001b[32m\"ar\"\u001b[39m,\n",
       "    \u001b[32m\"commodus\"\u001b[39m,\n",
       "    \u001b[32m\"rome\"\u001b[39m,\n",
       "    \u001b[32m\"italy\"\u001b[39m,\n",
       "    \u001b[32m\"Head of Commodus, laureate, right\"\u001b[39m,\n",
       "    \u001b[32m\"M COMMODVS ANTONINVS AVG\"\u001b[39m,\n",
       "    \u001b[32m\"rdf:resource=\\\"http://nomisma.org/id/commodus\\\"\"\u001b[39m,\n",
       "    \u001b[32m\"Roma, helmeted, draped, standing left, holding Victory in extended right hand and vertical spear in left hand\"\u001b[39m,\n",
       "    \u001b[32m\"TR P VII IMP V COS III P P\"\u001b[39m,\n",
       "    \u001b[32m\"rdf:resource=\\\"http://collection.britishmuseum.org/id/person-institution/60208\\\"\"\u001b[39m,\n",
       "    \u001b[33mSome\u001b[39m(\u001b[33mYearRange\u001b[39m(\u001b[32m182\u001b[39m, \u001b[33mSome\u001b[39m(\u001b[32m182\u001b[39m)))\n",
       "  ),\n",
       "  \u001b[33mOcreIssue\u001b[39m(\n",
       "    \u001b[32m\"9.thes.27B.iii\"\u001b[39m,\n",
       "    \u001b[32m\"RIC IX Thessalonica 27B: Subtype iii\"\u001b[39m,\n",
       "    \u001b[32m\"ae3\"\u001b[39m,\n",
       "    \u001b[32m\"ae\"\u001b[39m,\n",
       "    \u001b[32m\"valentinian_i\"\u001b[39m,\n",
       "    \u001b[32m\"thessalonica\"\u001b[39m,\n",
       "    \u001b[32m\"macedonia\"\u001b[39m,\n",
       "    \u001b[32m\"Bust of Valens, pearl-diademed, draped and cuirassed, right\"\u001b[39m,\n",
       "    \u001b[32m\"D N VALEN-S P F AVG\"\u001b[39m,\n",
       "    \u001b[32m\"rdf:resource=\\\"http://nomisma.org/id/valens\\\"\"\u001b[39m,\n",
       "    \u001b[32m\"Victory advancing left, holding wreath and palm\"\u001b[39m,\n",
       "    \u001b[32m\"SECVRITAS-REIPVBLICAE\"\u001b[39m,\n",
       "    \u001b[32m\"rdf:resource=\\\"http://collection.britishmuseum.org/id/person-institution/60915\\\"\"\u001b[39m,\n",
       "    \u001b[33mSome\u001b[39m(\u001b[33mYearRange\u001b[39m(\u001b[32m367\u001b[39m, \u001b[33mSome\u001b[39m(\u001b[32m375\u001b[39m)))\n",
       "  ),\n",
       "  \u001b[33mOcreIssue\u001b[39m(\n",
       "    \u001b[32m\"9.thes.27B.ii\"\u001b[39m,\n",
       "    \u001b[32m\"RIC IX Thessalonica 27B: Subtype ii\"\u001b[39m,\n",
       "...\n",
       "\u001b[36mmaterials\u001b[39m: \u001b[32mVector\u001b[39m[\u001b[32mOcreIssue\u001b[39m] = \u001b[33mVector\u001b[39m(\n",
       "  \u001b[33mOcreIssue\u001b[39m(\n",
       "    \u001b[32m\"3.com.43\"\u001b[39m,\n",
       "    \u001b[32m\"RIC III Commodus 43\"\u001b[39m,\n",
       "    \u001b[32m\"denarius\"\u001b[39m,\n",
       "    \u001b[32m\"ar\"\u001b[39m,\n",
       "    \u001b[32m\"commodus\"\u001b[39m,\n",
       "    \u001b[32m\"rome\"\u001b[39m,\n",
       "    \u001b[32m\"italy\"\u001b[39m,\n",
       "    \u001b[32m\"Head of Commodus, laureate, right\"\u001b[39m,\n",
       "    \u001b[32m\"M COMMODVS ANTONINVS AVG\"\u001b[39m,\n",
       "    \u001b[32m\"rdf:resource=\\\"http://nomisma.org/id/commodus\\\"\"\u001b[39m,\n",
       "    \u001b[32m\"Roma, helmeted, draped, standing left, holding Victory in extended right hand and vertical spear in left hand\"\u001b[39m,\n",
       "    \u001b[32m\"TR P VII IMP V COS III P P\"\u001b[39m,\n",
       "    \u001b[32m\"rdf:resource=\\\"http://collection.britishmuseum.org/id/person-institution/60208\\\"\"\u001b[39m,\n",
       "    \u001b[33mSome\u001b[39m(\u001b[33mYearRange\u001b[39m(\u001b[32m182\u001b[39m, \u001b[33mSome\u001b[39m(\u001b[32m182\u001b[39m)))\n",
       "  ),\n",
       "  \u001b[33mOcreIssue\u001b[39m(\n",
       "    \u001b[32m\"9.thes.27B.iii\"\u001b[39m,\n",
       "    \u001b[32m\"RIC IX Thessalonica 27B: Subtype iii\"\u001b[39m,\n",
       "    \u001b[32m\"ae3\"\u001b[39m,\n",
       "    \u001b[32m\"ae\"\u001b[39m,\n",
       "    \u001b[32m\"valentinian_i\"\u001b[39m,\n",
       "    \u001b[32m\"thessalonica\"\u001b[39m,\n",
       "    \u001b[32m\"macedonia\"\u001b[39m,\n",
       "    \u001b[32m\"Bust of Valens, pearl-diademed, draped and cuirassed, right\"\u001b[39m,\n",
       "    \u001b[32m\"D N VALEN-S P F AVG\"\u001b[39m,\n",
       "    \u001b[32m\"rdf:resource=\\\"http://nomisma.org/id/valens\\\"\"\u001b[39m,\n",
       "    \u001b[32m\"Victory advancing left, holding wreath and palm\"\u001b[39m,\n",
       "    \u001b[32m\"SECVRITAS-REIPVBLICAE\"\u001b[39m,\n",
       "    \u001b[32m\"rdf:resource=\\\"http://collection.britishmuseum.org/id/person-institution/60915\\\"\"\u001b[39m,\n",
       "    \u001b[33mSome\u001b[39m(\u001b[33mYearRange\u001b[39m(\u001b[32m367\u001b[39m, \u001b[33mSome\u001b[39m(\u001b[32m375\u001b[39m)))\n",
       "  ),\n",
       "  \u001b[33mOcreIssue\u001b[39m(\n",
       "    \u001b[32m\"9.thes.27B.ii\"\u001b[39m,\n",
       "    \u001b[32m\"RIC IX Thessalonica 27B: Subtype ii\"\u001b[39m,\n",
       "...\n",
       "\u001b[36mdenominations\u001b[39m: \u001b[32mVector\u001b[39m[\u001b[32mOcreIssue\u001b[39m] = \u001b[33mVector\u001b[39m(\n",
       "  \u001b[33mOcreIssue\u001b[39m(\n",
       "    \u001b[32m\"3.com.43\"\u001b[39m,\n",
       "    \u001b[32m\"RIC III Commodus 43\"\u001b[39m,\n",
       "    \u001b[32m\"denarius\"\u001b[39m,\n",
       "    \u001b[32m\"ar\"\u001b[39m,\n",
       "    \u001b[32m\"commodus\"\u001b[39m,\n",
       "    \u001b[32m\"rome\"\u001b[39m,\n",
       "    \u001b[32m\"italy\"\u001b[39m,\n",
       "    \u001b[32m\"Head of Commodus, laureate, right\"\u001b[39m,\n",
       "    \u001b[32m\"M COMMODVS ANTONINVS AVG\"\u001b[39m,\n",
       "    \u001b[32m\"rdf:resource=\\\"http://nomisma.org/id/commodus\\\"\"\u001b[39m,\n",
       "    \u001b[32m\"Roma, helmeted, draped, standing left, holding Victory in extended right hand and vertical spear in left hand\"\u001b[39m,\n",
       "    \u001b[32m\"TR P VII IMP V COS III P P\"\u001b[39m,\n",
       "    \u001b[32m\"rdf:resource=\\\"http://collection.britishmuseum.org/id/person-institution/60208\\\"\"\u001b[39m,\n",
       "    \u001b[33mSome\u001b[39m(\u001b[33mYearRange\u001b[39m(\u001b[32m182\u001b[39m, \u001b[33mSome\u001b[39m(\u001b[32m182\u001b[39m)))\n",
       "  ),\n",
       "  \u001b[33mOcreIssue\u001b[39m(\n",
       "    \u001b[32m\"9.thes.27B.iii\"\u001b[39m,\n",
       "    \u001b[32m\"RIC IX Thessalonica 27B: Subtype iii\"\u001b[39m,\n",
       "    \u001b[32m\"ae3\"\u001b[39m,\n",
       "    \u001b[32m\"ae\"\u001b[39m,\n",
       "    \u001b[32m\"valentinian_i\"\u001b[39m,\n",
       "    \u001b[32m\"thessalonica\"\u001b[39m,\n",
       "    \u001b[32m\"macedonia\"\u001b[39m,\n",
       "    \u001b[32m\"Bust of Valens, pearl-diademed, draped and cuirassed, right\"\u001b[39m,\n",
       "    \u001b[32m\"D N VALEN-S P F AVG\"\u001b[39m,\n",
       "    \u001b[32m\"rdf:resource=\\\"http://nomisma.org/id/valens\\\"\"\u001b[39m,\n",
       "    \u001b[32m\"Victory advancing left, holding wreath and palm\"\u001b[39m,\n",
       "    \u001b[32m\"SECVRITAS-REIPVBLICAE\"\u001b[39m,\n",
       "    \u001b[32m\"rdf:resource=\\\"http://collection.britishmuseum.org/id/person-institution/60915\\\"\"\u001b[39m,\n",
       "    \u001b[33mSome\u001b[39m(\u001b[33mYearRange\u001b[39m(\u001b[32m367\u001b[39m, \u001b[33mSome\u001b[39m(\u001b[32m375\u001b[39m)))\n",
       "  ),\n",
       "  \u001b[33mOcreIssue\u001b[39m(\n",
       "    \u001b[32m\"9.thes.27B.ii\"\u001b[39m,\n",
       "    \u001b[32m\"RIC IX Thessalonica 27B: Subtype ii\"\u001b[39m,\n",
       "..."
      ]
     },
     "execution_count": 13,
     "metadata": {},
     "output_type": "execute_result"
    }
   ],
   "source": [
    "val authorities = ocre.issues.filter(_.authority.nonEmpty)\n",
    "require (authorities.size == ocre.issues.size)\n",
    "\n",
    "val materials = ocre.issues.filter(_.material.nonEmpty)\n",
    "require (materials.size == ocre.issues.size)\n",
    "\n",
    "val denominations = ocre.issues.filter(_.denomination.nonEmpty)\n",
    "require (denominations.size == ocre.issues.size)"
   ]
  },
  {
   "cell_type": "markdown",
   "metadata": {},
   "source": [
    "### Distinct values for core information"
   ]
  },
  {
   "cell_type": "code",
   "execution_count": 14,
   "metadata": {},
   "outputs": [
    {
     "name": "stdout",
     "output_type": "stream",
     "text": [
      "OCRE corpus includes values for:\n",
      "131 issuing authorities\n",
      "4 metals\n",
      "131 denominations\n"
     ]
    },
    {
     "data": {
      "text/plain": [
       "\u001b[36mauthorityValues\u001b[39m: \u001b[32mVector\u001b[39m[\u001b[32mString\u001b[39m] = \u001b[33mVector\u001b[39m(\n",
       "  \u001b[32m\"commodus\"\u001b[39m,\n",
       "  \u001b[32m\"valentinian_i\"\u001b[39m,\n",
       "  \u001b[32m\"severus_alexander\"\u001b[39m,\n",
       "  \u001b[32m\"constantine_i\"\u001b[39m,\n",
       "  \u001b[32m\"valerian\"\u001b[39m,\n",
       "  \u001b[32m\"trajan_decius\"\u001b[39m,\n",
       "  \u001b[32m\"maxentius\"\u001b[39m,\n",
       "  \u001b[32m\"constantius_chlorus\"\u001b[39m,\n",
       "  \u001b[32m\"maximian\"\u001b[39m,\n",
       "  \u001b[32m\"valentinian_ii\"\u001b[39m,\n",
       "  \u001b[32m\"severus_ii\"\u001b[39m,\n",
       "  \u001b[32m\"hadrian\"\u001b[39m,\n",
       "  \u001b[32m\"septimius_severus\"\u001b[39m,\n",
       "  \u001b[32m\"macrinus\"\u001b[39m,\n",
       "  \u001b[32m\"diadumenian\"\u001b[39m,\n",
       "  \u001b[32m\"elagabalus\"\u001b[39m,\n",
       "  \u001b[32m\"geta\"\u001b[39m,\n",
       "  \u001b[32m\"caracalla\"\u001b[39m,\n",
       "  \u001b[32m\"uncertain_value\"\u001b[39m,\n",
       "  \u001b[32m\"gratian\"\u001b[39m,\n",
       "  \u001b[32m\"tacitus\"\u001b[39m,\n",
       "  \u001b[32m\"aurelian\"\u001b[39m,\n",
       "  \u001b[32m\"valens\"\u001b[39m,\n",
       "  \u001b[32m\"clodius_albinus\"\u001b[39m,\n",
       "  \u001b[32m\"pescennius_niger\"\u001b[39m,\n",
       "  \u001b[32m\"didius_julianus\"\u001b[39m,\n",
       "  \u001b[32m\"pertinax\"\u001b[39m,\n",
       "  \u001b[32m\"antoninus_pius\"\u001b[39m,\n",
       "  \u001b[32m\"gallienus\"\u001b[39m,\n",
       "  \u001b[32m\"claudius\"\u001b[39m,\n",
       "  \u001b[32m\"tiberius\"\u001b[39m,\n",
       "  \u001b[32m\"marcus_aurelius\"\u001b[39m,\n",
       "  \u001b[32m\"augustus\"\u001b[39m,\n",
       "  \u001b[32m\"trajan\"\u001b[39m,\n",
       "  \u001b[32m\"theodosius_i\"\u001b[39m,\n",
       "  \u001b[32m\"magnus_maximus\"\u001b[39m,\n",
       "  \u001b[32m\"maximinus_daia\"\u001b[39m,\n",
       "  \u001b[32m\"eugenius\"\u001b[39m,\n",
       "...\n",
       "\u001b[36mmaterialValues\u001b[39m: \u001b[32mVector\u001b[39m[\u001b[32mString\u001b[39m] = \u001b[33mVector\u001b[39m(\u001b[32m\"ar\"\u001b[39m, \u001b[32m\"ae\"\u001b[39m, \u001b[32m\"av\"\u001b[39m, \u001b[32m\"none\"\u001b[39m)\n",
       "\u001b[36mdenominationValues\u001b[39m: \u001b[32mVector\u001b[39m[\u001b[32mString\u001b[39m] = \u001b[33mVector\u001b[39m(\n",
       "  \u001b[32m\"commodus\"\u001b[39m,\n",
       "  \u001b[32m\"valentinian_i\"\u001b[39m,\n",
       "  \u001b[32m\"severus_alexander\"\u001b[39m,\n",
       "  \u001b[32m\"constantine_i\"\u001b[39m,\n",
       "  \u001b[32m\"valerian\"\u001b[39m,\n",
       "  \u001b[32m\"trajan_decius\"\u001b[39m,\n",
       "  \u001b[32m\"maxentius\"\u001b[39m,\n",
       "  \u001b[32m\"constantius_chlorus\"\u001b[39m,\n",
       "  \u001b[32m\"maximian\"\u001b[39m,\n",
       "  \u001b[32m\"valentinian_ii\"\u001b[39m,\n",
       "  \u001b[32m\"severus_ii\"\u001b[39m,\n",
       "  \u001b[32m\"hadrian\"\u001b[39m,\n",
       "  \u001b[32m\"septimius_severus\"\u001b[39m,\n",
       "  \u001b[32m\"macrinus\"\u001b[39m,\n",
       "  \u001b[32m\"diadumenian\"\u001b[39m,\n",
       "  \u001b[32m\"elagabalus\"\u001b[39m,\n",
       "  \u001b[32m\"geta\"\u001b[39m,\n",
       "  \u001b[32m\"caracalla\"\u001b[39m,\n",
       "  \u001b[32m\"uncertain_value\"\u001b[39m,\n",
       "  \u001b[32m\"gratian\"\u001b[39m,\n",
       "  \u001b[32m\"tacitus\"\u001b[39m,\n",
       "  \u001b[32m\"aurelian\"\u001b[39m,\n",
       "  \u001b[32m\"valens\"\u001b[39m,\n",
       "  \u001b[32m\"clodius_albinus\"\u001b[39m,\n",
       "  \u001b[32m\"pescennius_niger\"\u001b[39m,\n",
       "  \u001b[32m\"didius_julianus\"\u001b[39m,\n",
       "  \u001b[32m\"pertinax\"\u001b[39m,\n",
       "  \u001b[32m\"antoninus_pius\"\u001b[39m,\n",
       "  \u001b[32m\"gallienus\"\u001b[39m,\n",
       "  \u001b[32m\"claudius\"\u001b[39m,\n",
       "  \u001b[32m\"tiberius\"\u001b[39m,\n",
       "  \u001b[32m\"marcus_aurelius\"\u001b[39m,\n",
       "  \u001b[32m\"augustus\"\u001b[39m,\n",
       "  \u001b[32m\"trajan\"\u001b[39m,\n",
       "  \u001b[32m\"theodosius_i\"\u001b[39m,\n",
       "  \u001b[32m\"magnus_maximus\"\u001b[39m,\n",
       "  \u001b[32m\"maximinus_daia\"\u001b[39m,\n",
       "  \u001b[32m\"eugenius\"\u001b[39m,\n",
       "..."
      ]
     },
     "execution_count": 14,
     "metadata": {},
     "output_type": "execute_result"
    }
   ],
   "source": [
    "val authorityValues = authorities.map(_.authority).distinct\n",
    "val materialValues = materials.map(_.material).distinct\n",
    "val denominationValues = denominations.map(_.authority).distinct\n",
    "\n",
    "println(\"OCRE corpus includes values for:\")\n",
    "println(authorityValues.size + \" issuing authorities\")\n",
    "println(materialValues.size + \" metals\")\n",
    "println(denominationValues.size + \" denominations\")"
   ]
  },
  {
   "cell_type": "markdown",
   "metadata": {},
   "source": [
    "### How are they distributed?"
   ]
  },
  {
   "cell_type": "code",
   "execution_count": 15,
   "metadata": {},
   "outputs": [
    {
     "data": {
      "text/plain": [
       "\u001b[32mimport \u001b[39m\u001b[36medu.holycross.shot.histoutils._\n",
       "\n",
       "\n",
       "\u001b[39m\n",
       "\u001b[36mauthorityFreqs\u001b[39m: \u001b[32mcollection\u001b[39m.\u001b[32mimmutable\u001b[39m.\u001b[32mIterable\u001b[39m[\u001b[32mFrequency\u001b[39m[\u001b[32mString\u001b[39m]] = \u001b[33mList\u001b[39m(\n",
       "  \u001b[33mFrequency\u001b[39m(\u001b[32m\"quietus\"\u001b[39m, \u001b[32m13\u001b[39m),\n",
       "  \u001b[33mFrequency\u001b[39m(\u001b[32m\"zenobia\"\u001b[39m, \u001b[32m2\u001b[39m),\n",
       "  \u001b[33mFrequency\u001b[39m(\u001b[32m\"maximus_barcelona\"\u001b[39m, \u001b[32m4\u001b[39m),\n",
       "  \u001b[33mFrequency\u001b[39m(\u001b[32m\"trebonianus_gallus\"\u001b[39m, \u001b[32m307\u001b[39m),\n",
       "  \u001b[33mFrequency\u001b[39m(\u001b[32m\"carausius\"\u001b[39m, \u001b[32m1146\u001b[39m),\n",
       "  \u001b[33mFrequency\u001b[39m(\u001b[32m\"tetricus_i\"\u001b[39m, \u001b[32m295\u001b[39m),\n",
       "  \u001b[33mFrequency\u001b[39m(\u001b[32m\"postumus\"\u001b[39m, \u001b[32m392\u001b[39m),\n",
       "  \u001b[33mFrequency\u001b[39m(\u001b[32m\"macrianus_minor\"\u001b[39m, \u001b[32m13\u001b[39m),\n",
       "  \u001b[33mFrequency\u001b[39m(\u001b[32m\"anthemius\"\u001b[39m, \u001b[32m107\u001b[39m),\n",
       "  \u001b[33mFrequency\u001b[39m(\u001b[32m\"magnus_maximus\"\u001b[39m, \u001b[32m110\u001b[39m),\n",
       "  \u001b[33mFrequency\u001b[39m(\u001b[32m\"otho\"\u001b[39m, \u001b[32m24\u001b[39m),\n",
       "  \u001b[33mFrequency\u001b[39m(\u001b[32m\"pertinax\"\u001b[39m, \u001b[32m71\u001b[39m),\n",
       "  \u001b[33mFrequency\u001b[39m(\u001b[32m\"basiliscus\"\u001b[39m, \u001b[32m50\u001b[39m),\n",
       "  \u001b[33mFrequency\u001b[39m(\u001b[32m\"elagabalus\"\u001b[39m, \u001b[32m550\u001b[39m),\n",
       "  \u001b[33mFrequency\u001b[39m(\u001b[32m\"theodosius_ii\"\u001b[39m, \u001b[32m275\u001b[39m),\n",
       "  \u001b[33mFrequency\u001b[39m(\u001b[32m\"constantine_i\"\u001b[39m, \u001b[32m4096\u001b[39m),\n",
       "  \u001b[33mFrequency\u001b[39m(\u001b[32m\"numerian\"\u001b[39m, \u001b[32m90\u001b[39m),\n",
       "  \u001b[33mFrequency\u001b[39m(\u001b[32m\"domitius_alexander\"\u001b[39m, \u001b[32m15\u001b[39m),\n",
       "  \u001b[33mFrequency\u001b[39m(\u001b[32m\"quintillus\"\u001b[39m, \u001b[32m100\u001b[39m),\n",
       "  \u001b[33mFrequency\u001b[39m(\u001b[32m\"tacitus\"\u001b[39m, \u001b[32m214\u001b[39m),\n",
       "  \u001b[33mFrequency\u001b[39m(\u001b[32m\"anonymous\"\u001b[39m, \u001b[32m184\u001b[39m),\n",
       "  \u001b[33mFrequency\u001b[39m(\u001b[32m\"vespasian\"\u001b[39m, \u001b[32m1588\u001b[39m),\n",
       "  \u001b[33mFrequency\u001b[39m(\u001b[32m\"sponsianus\"\u001b[39m, \u001b[32m1\u001b[39m),\n",
       "  \u001b[33mFrequency\u001b[39m(\u001b[32m\"jovianus\"\u001b[39m, \u001b[32m98\u001b[39m),\n",
       "  \u001b[33mFrequency\u001b[39m(\u001b[32m\"probus\"\u001b[39m, \u001b[32m953\u001b[39m),\n",
       "  \u001b[33mFrequency\u001b[39m(\u001b[32m\"valentinian_ii\"\u001b[39m, \u001b[32m824\u001b[39m),\n",
       "  \u001b[33mFrequency\u001b[39m(\u001b[32m\"severus_alexander\"\u001b[39m, \u001b[32m942\u001b[39m),\n",
       "  \u001b[33mFrequency\u001b[39m(\u001b[32m\"saturninus\"\u001b[39m, \u001b[32m1\u001b[39m),\n",
       "  \u001b[33mFrequency\u001b[39m(\u001b[32m\"romulus_augustulus\"\u001b[39m, \u001b[32m22\u001b[39m),\n",
       "  \u001b[33mFrequency\u001b[39m(\u001b[32m\"trajan_decius\"\u001b[39m, \u001b[32m531\u001b[39m),\n",
       "  \u001b[33mFrequency\u001b[39m(\u001b[32m\"gordian_i\"\u001b[39m, \u001b[32m16\u001b[39m),\n",
       "  \u001b[33mFrequency\u001b[39m(\u001b[32m\"clodius_macer\"\u001b[39m, \u001b[32m42\u001b[39m),\n",
       "  \u001b[33mFrequency\u001b[39m(\u001b[32m\"constantine_iii\"\u001b[39m, \u001b[32m46\u001b[39m),\n",
       "  \u001b[33mFrequency\u001b[39m(\u001b[32m\"domitian_ii\"\u001b[39m, \u001b[32m1\u001b[39m),\n",
       "  \u001b[33mFrequency\u001b[39m(\u001b[32m\"carinus\"\u001b[39m, \u001b[32m145\u001b[39m),\n",
       "  \u001b[33mFrequency\u001b[39m(\u001b[32m\"jotapianus\"\u001b[39m, \u001b[32m5\u001b[39m),\n",
       "  \u001b[33mFrequency\u001b[39m(\u001b[32m\"hadrian\"\u001b[39m, \u001b[32m2434\u001b[39m),\n",
       "  \u001b[33mFrequency\u001b[39m(\u001b[32m\"vitellius\"\u001b[39m, \u001b[32m177\u001b[39m),\n",
       "...\n",
       "\u001b[36mauthorityHistogram\u001b[39m: \u001b[32mHistogram\u001b[39m[\u001b[32mString\u001b[39m] = \u001b[33mHistogram\u001b[39m(\n",
       "  \u001b[33mVector\u001b[39m(\n",
       "    \u001b[33mFrequency\u001b[39m(\u001b[32m\"quietus\"\u001b[39m, \u001b[32m13\u001b[39m),\n",
       "    \u001b[33mFrequency\u001b[39m(\u001b[32m\"zenobia\"\u001b[39m, \u001b[32m2\u001b[39m),\n",
       "    \u001b[33mFrequency\u001b[39m(\u001b[32m\"maximus_barcelona\"\u001b[39m, \u001b[32m4\u001b[39m),\n",
       "    \u001b[33mFrequency\u001b[39m(\u001b[32m\"trebonianus_gallus\"\u001b[39m, \u001b[32m307\u001b[39m),\n",
       "    \u001b[33mFrequency\u001b[39m(\u001b[32m\"carausius\"\u001b[39m, \u001b[32m1146\u001b[39m),\n",
       "    \u001b[33mFrequency\u001b[39m(\u001b[32m\"tetricus_i\"\u001b[39m, \u001b[32m295\u001b[39m),\n",
       "    \u001b[33mFrequency\u001b[39m(\u001b[32m\"postumus\"\u001b[39m, \u001b[32m392\u001b[39m),\n",
       "    \u001b[33mFrequency\u001b[39m(\u001b[32m\"macrianus_minor\"\u001b[39m, \u001b[32m13\u001b[39m),\n",
       "    \u001b[33mFrequency\u001b[39m(\u001b[32m\"anthemius\"\u001b[39m, \u001b[32m107\u001b[39m),\n",
       "    \u001b[33mFrequency\u001b[39m(\u001b[32m\"magnus_maximus\"\u001b[39m, \u001b[32m110\u001b[39m),\n",
       "    \u001b[33mFrequency\u001b[39m(\u001b[32m\"otho\"\u001b[39m, \u001b[32m24\u001b[39m),\n",
       "    \u001b[33mFrequency\u001b[39m(\u001b[32m\"pertinax\"\u001b[39m, \u001b[32m71\u001b[39m),\n",
       "    \u001b[33mFrequency\u001b[39m(\u001b[32m\"basiliscus\"\u001b[39m, \u001b[32m50\u001b[39m),\n",
       "    \u001b[33mFrequency\u001b[39m(\u001b[32m\"elagabalus\"\u001b[39m, \u001b[32m550\u001b[39m),\n",
       "    \u001b[33mFrequency\u001b[39m(\u001b[32m\"theodosius_ii\"\u001b[39m, \u001b[32m275\u001b[39m),\n",
       "    \u001b[33mFrequency\u001b[39m(\u001b[32m\"constantine_i\"\u001b[39m, \u001b[32m4096\u001b[39m),\n",
       "    \u001b[33mFrequency\u001b[39m(\u001b[32m\"numerian\"\u001b[39m, \u001b[32m90\u001b[39m),\n",
       "    \u001b[33mFrequency\u001b[39m(\u001b[32m\"domitius_alexander\"\u001b[39m, \u001b[32m15\u001b[39m),\n",
       "    \u001b[33mFrequency\u001b[39m(\u001b[32m\"quintillus\"\u001b[39m, \u001b[32m100\u001b[39m),\n",
       "    \u001b[33mFrequency\u001b[39m(\u001b[32m\"tacitus\"\u001b[39m, \u001b[32m214\u001b[39m),\n",
       "    \u001b[33mFrequency\u001b[39m(\u001b[32m\"anonymous\"\u001b[39m, \u001b[32m184\u001b[39m),\n",
       "    \u001b[33mFrequency\u001b[39m(\u001b[32m\"vespasian\"\u001b[39m, \u001b[32m1588\u001b[39m),\n",
       "    \u001b[33mFrequency\u001b[39m(\u001b[32m\"sponsianus\"\u001b[39m, \u001b[32m1\u001b[39m),\n",
       "    \u001b[33mFrequency\u001b[39m(\u001b[32m\"jovianus\"\u001b[39m, \u001b[32m98\u001b[39m),\n",
       "    \u001b[33mFrequency\u001b[39m(\u001b[32m\"probus\"\u001b[39m, \u001b[32m953\u001b[39m),\n",
       "    \u001b[33mFrequency\u001b[39m(\u001b[32m\"valentinian_ii\"\u001b[39m, \u001b[32m824\u001b[39m),\n",
       "    \u001b[33mFrequency\u001b[39m(\u001b[32m\"severus_alexander\"\u001b[39m, \u001b[32m942\u001b[39m),\n",
       "    \u001b[33mFrequency\u001b[39m(\u001b[32m\"saturninus\"\u001b[39m, \u001b[32m1\u001b[39m),\n",
       "    \u001b[33mFrequency\u001b[39m(\u001b[32m\"romulus_augustulus\"\u001b[39m, \u001b[32m22\u001b[39m),\n",
       "    \u001b[33mFrequency\u001b[39m(\u001b[32m\"trajan_decius\"\u001b[39m, \u001b[32m531\u001b[39m),\n",
       "    \u001b[33mFrequency\u001b[39m(\u001b[32m\"gordian_i\"\u001b[39m, \u001b[32m16\u001b[39m),\n",
       "    \u001b[33mFrequency\u001b[39m(\u001b[32m\"clodius_macer\"\u001b[39m, \u001b[32m42\u001b[39m),\n",
       "    \u001b[33mFrequency\u001b[39m(\u001b[32m\"constantine_iii\"\u001b[39m, \u001b[32m46\u001b[39m),\n",
       "    \u001b[33mFrequency\u001b[39m(\u001b[32m\"domitian_ii\"\u001b[39m, \u001b[32m1\u001b[39m),\n",
       "    \u001b[33mFrequency\u001b[39m(\u001b[32m\"carinus\"\u001b[39m, \u001b[32m145\u001b[39m),\n",
       "    \u001b[33mFrequency\u001b[39m(\u001b[32m\"jotapianus\"\u001b[39m, \u001b[32m5\u001b[39m),\n",
       "    \u001b[33mFrequency\u001b[39m(\u001b[32m\"hadrian\"\u001b[39m, \u001b[32m2434\u001b[39m),\n",
       "..."
      ]
     },
     "execution_count": 15,
     "metadata": {},
     "output_type": "execute_result"
    }
   ],
   "source": [
    "import edu.holycross.shot.histoutils._\n",
    "\n",
    "\n",
    "val authorityFreqs = ocre.issues.map(_.authority).groupBy(d => d).map { case (k,v) => Frequency(k, v.size)}\n",
    "val authorityHistogram = edu.holycross.shot.histoutils.Histogram(authorityFreqs.toVector)\n",
    "\n"
   ]
  },
  {
   "cell_type": "markdown",
   "metadata": {},
   "source": [
    "Visual as a bar graph using the `plotly` library:"
   ]
  },
  {
   "cell_type": "code",
   "execution_count": 17,
   "metadata": {
    "collapsed": true
   },
   "outputs": [
    {
     "data": {
      "text/plain": [
       "\u001b[32mimport \u001b[39m\u001b[36mplotly._, plotly.element._, plotly.layout._, plotly.Almond._\n",
       "\u001b[39m"
      ]
     },
     "execution_count": 17,
     "metadata": {},
     "output_type": "execute_result"
    }
   ],
   "source": [
    "// Import plotly, and \n",
    "import plotly._, plotly.element._, plotly.layout._, plotly.Almond._\n",
    "repl.pprinter() = repl.pprinter().copy(defaultHeight = 3)"
   ]
  },
  {
   "cell_type": "markdown",
   "metadata": {},
   "source": [
    "Plot number of issues by each authority, sorted from largest to smallest number of issues:"
   ]
  },
  {
   "cell_type": "code",
   "execution_count": 18,
   "metadata": {
    "collapsed": true
   },
   "outputs": [
    {
     "data": {
      "application/vnd.plotly.v1+json": {
       "data": [
        {
         "type": "bar",
         "x": [
          "constantine_i",
          "gallienus",
          "hadrian",
          "antoninus_pius",
          "maximian",
          "septimius_severus",
          "marcus_aurelius",
          "constantius_ii",
          "valerian",
          "vespasian",
          "valentinian_i",
          "theodosius_i",
          "carausius",
          "probus",
          "commodus",
          "severus_alexander",
          "trajan",
          "domitian",
          "valens",
          "valentinian_ii",
          "constans",
          "augustus",
          "licinius",
          "gordian_iii",
          "philip_the_arab",
          "elagabalus",
          "titus",
          "trajan_decius",
          "caracalla",
          "aurelian",
          "galba",
          "constantine_ii",
          "gratian",
          "magnentius",
          "diocletian",
          "postumus",
          "maximinus_daia",
          "trebonianus_gallus",
          "constantius_chlorus",
          "maxentius",
          "tetricus_i",
          "macrinus",
          "theodosius_ii",
          "volusian",
          "claudius_ii_gothicus",
          "galerius",
          "carus",
          "julian_the_apostate",
          "tacitus",
          "pescennius_niger",
          "valentinian_iii",
          "severus_ii",
          "anonymous",
          "vitellius",
          "nerva",
          "honorius",
          "maximinus_thrax",
          "arcadius",
          "leo_i",
          "clodius_albinus",
          "zeno",
          "carinus",
          "allectus",
          "victorinus",
          "claudius",
          "florianus",
          "magnus_maximus",
          "anthemius",
          "quintillus",
          "jovianus",
          "procopius",
          "tiberius",
          "numerian",
          "aemilian",
          "gallic_1_ric.10",
          "marcian",
          "pertinax",
          "gaius",
          "julius_nepos",
          "majorian",
          "didius_julianus",
          "basiliscus",
          "constantine_iii",
          "clodius_macer",
          "geta",
          "diadumenian",
          "pupienus",
          "balbinus",
          "eugenius",
          "libius_severus",
          "otho",
          "joannes",
          "romulus_augustulus",
          "jovinus",
          "uranius_antoninus",
          "non_imp_african_ric.10",
          "priscus_attalus",
          "gordian_i",
          "domitius_alexander",
          "glycerius",
          "quietus",
          "macrianus_minor",
          "avitus",
          "pacatianus",
          "gordian_ii",
          "gallic_2_ric.10",
          "laelianus",
          "regalianus",
          "vabalathus",
          "leo_ii",
          "marius",
          "uncertain_value",
          "hostilian",
          "jotapianus",
          "sabinus_julianus",
          "maximus_barcelona",
          "olybrius",
          "spanish_ric.10",
          "petronius_maximus",
          "leontius",
          "bonosus",
          "amandus",
          "zenobia",
          "dryantilla",
          "aureolus",
          "odoacer",
          "sponsianus",
          "saturninus",
          "domitian_ii",
          "mar_silbannacus",
          "none"
         ],
         "y": [
          4096,
          3434,
          2434,
          2381,
          2326,
          2170,
          1819,
          1617,
          1597,
          1588,
          1417,
          1176,
          1146,
          953,
          945,
          942,
          942,
          859,
          847,
          824,
          666,
          629,
          580,
          552,
          551,
          550,
          543,
          531,
          529,
          525,
          522,
          450,
          437,
          425,
          405,
          392,
          380,
          307,
          303,
          300,
          295,
          281,
          275,
          256,
          255,
          242,
          239,
          232,
          214,
          196,
          187,
          185,
          184,
          177,
          177,
          176,
          168,
          162,
          160,
          154,
          147,
          145,
          132,
          131,
          126,
          117,
          110,
          107,
          100,
          98,
          97,
          95,
          90,
          84,
          75,
          75,
          71,
          63,
          54,
          53,
          52,
          50,
          46,
          42,
          39,
          37,
          31,
          31,
          29,
          29,
          24,
          23,
          22,
          22,
          19,
          19,
          17,
          16,
          15,
          14,
          13,
          13,
          13,
          12,
          10,
          10,
          10,
          9,
          8,
          8,
          7,
          6,
          6,
          5,
          5,
          4,
          4,
          3,
          3,
          3,
          3,
          3,
          2,
          2,
          2,
          2,
          1,
          1,
          1,
          1,
          1
         ]
        }
       ],
       "layout": {}
      },
      "text/html": [
       "<div class=\"chart\" id=\"plot-50623266-35d6-4e0f-9778-140cc3a384ba\"></div>\n",
       "<script>require(['plotly'], function(Plotly) {\n",
       "  (function () {\n",
       "  var data0 = {\"x\":[\"constantine_i\",\"gallienus\",\"hadrian\",\"antoninus_pius\",\"maximian\",\"septimius_severus\",\"marcus_aurelius\",\"constantius_ii\",\"valerian\",\"vespasian\",\"valentinian_i\",\"theodosius_i\",\"carausius\",\"probus\",\"commodus\",\"severus_alexander\",\"trajan\",\"domitian\",\"valens\",\"valentinian_ii\",\"constans\",\"augustus\",\"licinius\",\"gordian_iii\",\"philip_the_arab\",\"elagabalus\",\"titus\",\"trajan_decius\",\"caracalla\",\"aurelian\",\"galba\",\"constantine_ii\",\"gratian\",\"magnentius\",\"diocletian\",\"postumus\",\"maximinus_daia\",\"trebonianus_gallus\",\"constantius_chlorus\",\"maxentius\",\"tetricus_i\",\"macrinus\",\"theodosius_ii\",\"volusian\",\"claudius_ii_gothicus\",\"galerius\",\"carus\",\"julian_the_apostate\",\"tacitus\",\"pescennius_niger\",\"valentinian_iii\",\"severus_ii\",\"anonymous\",\"vitellius\",\"nerva\",\"honorius\",\"maximinus_thrax\",\"arcadius\",\"leo_i\",\"clodius_albinus\",\"zeno\",\"carinus\",\"allectus\",\"victorinus\",\"claudius\",\"florianus\",\"magnus_maximus\",\"anthemius\",\"quintillus\",\"jovianus\",\"procopius\",\"tiberius\",\"numerian\",\"aemilian\",\"gallic_1_ric.10\",\"marcian\",\"pertinax\",\"gaius\",\"julius_nepos\",\"majorian\",\"didius_julianus\",\"basiliscus\",\"constantine_iii\",\"clodius_macer\",\"geta\",\"diadumenian\",\"pupienus\",\"balbinus\",\"eugenius\",\"libius_severus\",\"otho\",\"joannes\",\"romulus_augustulus\",\"jovinus\",\"uranius_antoninus\",\"non_imp_african_ric.10\",\"priscus_attalus\",\"gordian_i\",\"domitius_alexander\",\"glycerius\",\"quietus\",\"macrianus_minor\",\"avitus\",\"pacatianus\",\"gordian_ii\",\"gallic_2_ric.10\",\"laelianus\",\"regalianus\",\"vabalathus\",\"leo_ii\",\"marius\",\"uncertain_value\",\"hostilian\",\"jotapianus\",\"sabinus_julianus\",\"maximus_barcelona\",\"olybrius\",\"spanish_ric.10\",\"petronius_maximus\",\"leontius\",\"bonosus\",\"amandus\",\"zenobia\",\"dryantilla\",\"aureolus\",\"odoacer\",\"sponsianus\",\"saturninus\",\"domitian_ii\",\"mar_silbannacus\",\"none\"],\"y\":[4096.0,3434.0,2434.0,2381.0,2326.0,2170.0,1819.0,1617.0,1597.0,1588.0,1417.0,1176.0,1146.0,953.0,945.0,942.0,942.0,859.0,847.0,824.0,666.0,629.0,580.0,552.0,551.0,550.0,543.0,531.0,529.0,525.0,522.0,450.0,437.0,425.0,405.0,392.0,380.0,307.0,303.0,300.0,295.0,281.0,275.0,256.0,255.0,242.0,239.0,232.0,214.0,196.0,187.0,185.0,184.0,177.0,177.0,176.0,168.0,162.0,160.0,154.0,147.0,145.0,132.0,131.0,126.0,117.0,110.0,107.0,100.0,98.0,97.0,95.0,90.0,84.0,75.0,75.0,71.0,63.0,54.0,53.0,52.0,50.0,46.0,42.0,39.0,37.0,31.0,31.0,29.0,29.0,24.0,23.0,22.0,22.0,19.0,19.0,17.0,16.0,15.0,14.0,13.0,13.0,13.0,12.0,10.0,10.0,10.0,9.0,8.0,8.0,7.0,6.0,6.0,5.0,5.0,4.0,4.0,3.0,3.0,3.0,3.0,3.0,2.0,2.0,2.0,2.0,1.0,1.0,1.0,1.0,1.0],\"type\":\"bar\"};\n",
       "\n",
       "  var data = [data0];\n",
       "  var layout = {};\n",
       "\n",
       "  Plotly.plot('plot-50623266-35d6-4e0f-9778-140cc3a384ba', data, layout);\n",
       "})();\n",
       "});\n",
       "      </script>\n",
       "           "
      ]
     },
     "metadata": {},
     "output_type": "display_data"
    },
    {
     "data": {
      "text/plain": [
       "\u001b[36mauthNames\u001b[39m: \u001b[32mVector\u001b[39m[\u001b[32mString\u001b[39m] = \u001b[33mVector\u001b[39m(\n",
       "  \u001b[32m\"constantine_i\"\u001b[39m,\n",
       "...\n",
       "\u001b[36mauthCounts\u001b[39m: \u001b[32mVector\u001b[39m[\u001b[32mInt\u001b[39m] = \u001b[33mVector\u001b[39m(\n",
       "  \u001b[32m4096\u001b[39m,\n",
       "...\n",
       "\u001b[36mauthPlot\u001b[39m: \u001b[32mSeq\u001b[39m[\u001b[32mBar\u001b[39m] = \u001b[33mList\u001b[39m(\n",
       "  \u001b[33mBar\u001b[39m(\n",
       "...\n",
       "\u001b[36mres17_3\u001b[39m: \u001b[32mString\u001b[39m = \u001b[32m\"plot-50623266-35d6-4e0f-9778-140cc3a384ba\"\u001b[39m"
      ]
     },
     "execution_count": 18,
     "metadata": {},
     "output_type": "execute_result"
    }
   ],
   "source": [
    "val authNames = authorityHistogram.sorted.frequencies.map(_.item)\n",
    "val authCounts = authorityHistogram.sorted.frequencies.map(_.count)\n",
    "val authPlot = Seq(\n",
    "  Bar(\n",
    "   authNames, authCounts\n",
    "  )\n",
    ")\n",
    "plot(authPlot)\n"
   ]
  },
  {
   "cell_type": "markdown",
   "metadata": {},
   "source": [
    "## Notebook in progress.  \n",
    "\n",
    "More to come!\n",
    "\n"
   ]
  },
  {
   "cell_type": "markdown",
   "metadata": {},
   "source": [
    "\n",
    "Now view chronologically?\n",
    "\n",
    "- use ocre functions to get date ranges for authorities\n",
    "- sort histogram by minimum date for each authority\n",
    "- plot"
   ]
  },
  {
   "cell_type": "markdown",
   "metadata": {},
   "source": [
    "## Other information\n",
    "\n"
   ]
  },
  {
   "cell_type": "code",
   "execution_count": null,
   "metadata": {},
   "outputs": [],
   "source": [
    "ocre.size\n",
    "ocre.datable.size\n"
   ]
  },
  {
   "cell_type": "code",
   "execution_count": null,
   "metadata": {},
   "outputs": [],
   "source": [
    "ocre.issues.filter(_.obvLegend.nonEmpty).size\n",
    "ocre.issues.filter(_.revLegend.nonEmpty).size\n"
   ]
  },
  {
   "cell_type": "code",
   "execution_count": null,
   "metadata": {},
   "outputs": [],
   "source": [
    "ocre.issues.filter(_.obvType.nonEmpty).size\n",
    "ocre.issues.filter(_.revType.nonEmpty).size"
   ]
  },
  {
   "cell_type": "code",
   "execution_count": null,
   "metadata": {},
   "outputs": [],
   "source": [
    "val noRType = ocre.issues.filter(_.revType.isEmpty)"
   ]
  },
  {
   "cell_type": "code",
   "execution_count": null,
   "metadata": {},
   "outputs": [],
   "source": [
    "val legends = ocre.corpus"
   ]
  },
  {
   "cell_type": "code",
   "execution_count": null,
   "metadata": {},
   "outputs": [],
   "source": [
    "val obv = legends.nodes.filter(_.urn.passageComponent.contains(\"obv\"))\n",
    "val rev = legends.nodes.filter(_.urn.passageComponent.contains(\"rev\"))"
   ]
  },
  {
   "cell_type": "code",
   "execution_count": null,
   "metadata": {},
   "outputs": [],
   "source": [
    "legends.size\n",
    "obv.size\n",
    "rev.size"
   ]
  },
  {
   "cell_type": "code",
   "execution_count": null,
   "metadata": {},
   "outputs": [],
   "source": [
    "val mints = ocre.issues.filter(_.mint.nonEmpty)\n",
    "mints.size"
   ]
  },
  {
   "cell_type": "code",
   "execution_count": null,
   "metadata": {},
   "outputs": [],
   "source": [
    "\n",
    "\n"
   ]
  }
 ],
 "metadata": {
  "kernelspec": {
   "display_name": "Scala 2.12",
   "language": "scala",
   "name": "scala212"
  },
  "language_info": {
   "codemirror_mode": "text/x-scala",
   "file_extension": ".scala",
   "mimetype": "text/x-scala",
   "name": "scala",
   "nbconvert_exporter": "script",
   "version": "2.12.10"
  }
 },
 "nbformat": 4,
 "nbformat_minor": 2
}
