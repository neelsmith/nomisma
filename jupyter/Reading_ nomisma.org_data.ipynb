{
 "cells": [
  {
   "cell_type": "markdown",
   "metadata": {},
   "source": [
    "# Reading `nomisma.org` data\n",
    "\n",
    "First we configure our notebook to find the `nomisma` library.  (You could do the same thing in other environments with `sbt` or `maven`.)"
   ]
  },
  {
   "cell_type": "code",
   "execution_count": 3,
   "metadata": {
    "collapsed": true
   },
   "outputs": [
    {
     "data": {
      "text/plain": [
       "\u001b[36mmyBT\u001b[39m: \u001b[32mcoursierapi\u001b[39m.\u001b[32mMavenRepository\u001b[39m = MavenRepository(https://dl.bintray.com/neelsmith/maven)"
      ]
     },
     "execution_count": 3,
     "metadata": {},
     "output_type": "execute_result"
    }
   ],
   "source": [
    "// 1. Add maven repository where we https://hub.gke.mybinder.org/user/neelsmith-nomisma-pwjvmfpa/notebooks/Untitled.ipynb?kernel_name=scala212#can find our libraries\n",
    "val myBT = coursierapi.MavenRepository.of(\"https://dl.bintray.com/neelsmith/maven\")\n",
    "interp.repositories() ++= Seq(myBT)"
   ]
  },
  {
   "cell_type": "code",
   "execution_count": 4,
   "metadata": {
    "collapsed": true
   },
   "outputs": [
    {
     "name": "stderr",
     "output_type": "stream",
     "text": [
      "Downloading https://repo1.maven.org/maven2/edu/holycross/shot/nomisma_2.12/1.4.0/nomisma_2.12-1.4.0.pom\n",
      "Downloaded https://repo1.maven.org/maven2/edu/holycross/shot/nomisma_2.12/1.4.0/nomisma_2.12-1.4.0.pom\n",
      "Downloading https://repo1.maven.org/maven2/edu/holycross/shot/nomisma_2.12/1.4.0/nomisma_2.12-1.4.0.pom.sha1\n",
      "Downloaded https://repo1.maven.org/maven2/edu/holycross/shot/nomisma_2.12/1.4.0/nomisma_2.12-1.4.0.pom.sha1\n",
      "Downloading https://dl.bintray.com/neelsmith/maven/edu/holycross/shot/nomisma_2.12/1.4.0/nomisma_2.12-1.4.0.pom\n",
      "Downloaded https://dl.bintray.com/neelsmith/maven/edu/holycross/shot/nomisma_2.12/1.4.0/nomisma_2.12-1.4.0.pom\n",
      "Downloading https://repo1.maven.org/maven2/org/wvlet/airframe/airframe-log_2.12/19.8.10/airframe-log_2.12-19.8.10.pom\n",
      "Downloaded https://repo1.maven.org/maven2/org/wvlet/airframe/airframe-log_2.12/19.8.10/airframe-log_2.12-19.8.10.pom\n",
      "Downloading https://repo1.maven.org/maven2/ch/qos/logback/logback-core/1.2.3/logback-core-1.2.3.pom\n",
      "Downloading https://repo1.maven.org/maven2/org/scala-lang/scala-library/2.12.8/scala-library-2.12.8.pom\n",
      "Downloading https://repo1.maven.org/maven2/org/scala-lang/modules/scala-collection-compat_2.12/2.1.1/scala-collection-compat_2.12-2.1.1.pom\n",
      "Downloaded https://repo1.maven.org/maven2/ch/qos/logback/logback-core/1.2.3/logback-core-1.2.3.pom\n",
      "Downloaded https://repo1.maven.org/maven2/org/scala-lang/scala-library/2.12.8/scala-library-2.12.8.pom\n",
      "Downloaded https://repo1.maven.org/maven2/org/scala-lang/modules/scala-collection-compat_2.12/2.1.1/scala-collection-compat_2.12-2.1.1.pom\n",
      "Downloading https://repo1.maven.org/maven2/ch/qos/logback/logback-parent/1.2.3/logback-parent-1.2.3.pom\n",
      "Downloaded https://repo1.maven.org/maven2/ch/qos/logback/logback-parent/1.2.3/logback-parent-1.2.3.pom\n",
      "Downloading https://repo1.maven.org/maven2/ch/qos/logback/logback-core/1.2.3/logback-core-1.2.3.jar\n",
      "Downloading https://repo1.maven.org/maven2/org/scala-lang/modules/scala-collection-compat_2.12/2.1.1/scala-collection-compat_2.12-2.1.1-sources.jar\n",
      "Downloading https://repo1.maven.org/maven2/org/wvlet/airframe/airframe-log_2.12/19.8.10/airframe-log_2.12-19.8.10-sources.jar\n",
      "Downloading https://repo1.maven.org/maven2/org/scala-lang/scala-library/2.12.8/scala-library-2.12.8-sources.jar\n",
      "Downloading https://repo1.maven.org/maven2/org/scala-lang/modules/scala-collection-compat_2.12/2.1.1/scala-collection-compat_2.12-2.1.1.jar\n",
      "Downloading https://dl.bintray.com/neelsmith/maven/edu/holycross/shot/nomisma_2.12/1.4.0/nomisma_2.12-1.4.0.jar\n",
      "Downloaded https://repo1.maven.org/maven2/org/scala-lang/modules/scala-collection-compat_2.12/2.1.1/scala-collection-compat_2.12-2.1.1-sources.jar\n",
      "Downloading https://repo1.maven.org/maven2/ch/qos/logback/logback-core/1.2.3/logback-core-1.2.3-sources.jar\n",
      "Downloaded https://repo1.maven.org/maven2/ch/qos/logback/logback-core/1.2.3/logback-core-1.2.3.jar\n",
      "Downloading https://dl.bintray.com/neelsmith/maven/edu/holycross/shot/nomisma_2.12/1.4.0/nomisma_2.12-1.4.0-sources.jar\n",
      "Downloaded https://repo1.maven.org/maven2/org/scala-lang/modules/scala-collection-compat_2.12/2.1.1/scala-collection-compat_2.12-2.1.1.jar\n",
      "Downloaded https://repo1.maven.org/maven2/ch/qos/logback/logback-core/1.2.3/logback-core-1.2.3-sources.jar\n",
      "Downloading https://repo1.maven.org/maven2/org/scala-lang/scala-library/2.12.8/scala-library-2.12.8.jar\n",
      "Downloaded https://repo1.maven.org/maven2/org/wvlet/airframe/airframe-log_2.12/19.8.10/airframe-log_2.12-19.8.10-sources.jar\n",
      "Downloading https://repo1.maven.org/maven2/org/wvlet/airframe/airframe-log_2.12/19.8.10/airframe-log_2.12-19.8.10.jar\n",
      "Downloaded https://repo1.maven.org/maven2/org/scala-lang/scala-library/2.12.8/scala-library-2.12.8-sources.jar\n",
      "Downloaded https://dl.bintray.com/neelsmith/maven/edu/holycross/shot/nomisma_2.12/1.4.0/nomisma_2.12-1.4.0.jar\n",
      "Downloaded https://repo1.maven.org/maven2/org/wvlet/airframe/airframe-log_2.12/19.8.10/airframe-log_2.12-19.8.10.jar\n",
      "Downloaded https://repo1.maven.org/maven2/org/scala-lang/scala-library/2.12.8/scala-library-2.12.8.jar\n",
      "Downloaded https://dl.bintray.com/neelsmith/maven/edu/holycross/shot/nomisma_2.12/1.4.0/nomisma_2.12-1.4.0-sources.jar\n"
     ]
    },
    {
     "data": {
      "text/plain": [
       "\u001b[32mimport \u001b[39m\u001b[36m$ivy.$                                  \u001b[39m"
      ]
     },
     "execution_count": 4,
     "metadata": {},
     "output_type": "execute_result"
    }
   ],
   "source": [
    "// 2. Make libraries available with `$ivy` imports:\n",
    "import $ivy.`edu.holycross.shot::nomisma:1.4.0`"
   ]
  },
  {
   "cell_type": "markdown",
   "metadata": {},
   "source": [
    "## Load and parse RDF data\n",
    "\n",
    "Load and parse a test file with data for four issues."
   ]
  },
  {
   "cell_type": "code",
   "execution_count": 4,
   "metadata": {},
   "outputs": [
    {
     "name": "stderr",
     "output_type": "stream",
     "text": [
      "cmd4.sc:7: value size is not a member of edu.holycross.shot.nomisma.Ocre\n",
      "val res4_4 = require(sampleOcre.size == expectedSize)\n",
      "                                ^Compilation Failed"
     ]
    },
    {
     "ename": "",
     "evalue": "",
     "output_type": "error",
     "traceback": [
      "Compilation Failed"
     ]
    }
   ],
   "source": [
    "import edu.holycross.shot.nomisma._\n",
    "val sampleRdf = \"https://raw.githubusercontent.com/neelsmith/nomisma/master/jvm/src/test/resources/ocre_sample.rdf\"\n",
    "val sampleOcre = OcreSource.fromRdfUrl(sampleRdf)\n",
    "\n",
    "// Check results:\n",
    "val expectedSize = 4\n",
    "require(sampleOcre.size == expectedSize)"
   ]
  }
 ],
 "metadata": {
  "kernelspec": {
   "display_name": "Scala (2.12)",
   "language": "scala",
   "name": "scala212"
  },
  "language_info": {
   "codemirror_mode": "text/x-scala",
   "file_extension": ".scala",
   "mimetype": "text/x-scala",
   "name": "scala",
   "nbconvert_exporter": "script",
   "version": "2.12.10"
  }
 },
 "nbformat": 4,
 "nbformat_minor": 2
}
